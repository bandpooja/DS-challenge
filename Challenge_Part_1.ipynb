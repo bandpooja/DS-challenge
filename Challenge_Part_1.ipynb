{
  "nbformat": 4,
  "nbformat_minor": 0,
  "metadata": {
    "colab": {
      "name": "Challenge_Part_1.ipynb",
      "provenance": []
    },
    "kernelspec": {
      "name": "python3",
      "display_name": "Python 3"
    },
    "language_info": {
      "name": "python"
    }
  },
  "cells": [
    {
      "cell_type": "markdown",
      "source": [
        "<center>\n",
        "\n",
        "# Shopify data analysis task\n",
        "\n",
        "#### *Pooja Bandal*\n",
        "\n",
        "</center>\n",
        "\n",
        "\n",
        "\n",
        "## Importing libraries"
      ],
      "metadata": {
        "id": "W9i8c95URXet"
      }
    },
    {
      "cell_type": "code",
      "execution_count": 1,
      "metadata": {
        "id": "Xm5IVUD7tL7T"
      },
      "outputs": [],
      "source": [
        "import numpy as np\n",
        "import matplotlib.pyplot as plt\n",
        "import pandas as pd\n",
        "import statistics"
      ]
    },
    {
      "cell_type": "markdown",
      "source": [
        "## Reading Dataset"
      ],
      "metadata": {
        "id": "5Xgof3mpT-c2"
      }
    },
    {
      "cell_type": "code",
      "source": [
        "df = pd.read_csv('data.csv')\n",
        "df.head()"
      ],
      "metadata": {
        "colab": {
          "base_uri": "https://localhost:8080/",
          "height": 206
        },
        "id": "0UUDfuNgutkp",
        "outputId": "a3161600-9f22-4405-af23-c947a156d905"
      },
      "execution_count": 2,
      "outputs": [
        {
          "output_type": "execute_result",
          "data": {
            "text/plain": [
              "   order_id  shop_id  user_id  order_amount  total_items payment_method  \\\n",
              "0         1       53      746           224            2           cash   \n",
              "1         2       92      925            90            1           cash   \n",
              "2         3       44      861           144            1           cash   \n",
              "3         4       18      935           156            1    credit_card   \n",
              "4         5       18      883           156            1    credit_card   \n",
              "\n",
              "            created_at  \n",
              "0  2017-03-13 12:36:56  \n",
              "1  2017-03-03 17:38:52  \n",
              "2   2017-03-14 4:23:56  \n",
              "3  2017-03-26 12:43:37  \n",
              "4   2017-03-01 4:35:11  "
            ],
            "text/html": [
              "\n",
              "  <div id=\"df-7ff681aa-1dc7-4d23-bee9-531bb7a488ed\">\n",
              "    <div class=\"colab-df-container\">\n",
              "      <div>\n",
              "<style scoped>\n",
              "    .dataframe tbody tr th:only-of-type {\n",
              "        vertical-align: middle;\n",
              "    }\n",
              "\n",
              "    .dataframe tbody tr th {\n",
              "        vertical-align: top;\n",
              "    }\n",
              "\n",
              "    .dataframe thead th {\n",
              "        text-align: right;\n",
              "    }\n",
              "</style>\n",
              "<table border=\"1\" class=\"dataframe\">\n",
              "  <thead>\n",
              "    <tr style=\"text-align: right;\">\n",
              "      <th></th>\n",
              "      <th>order_id</th>\n",
              "      <th>shop_id</th>\n",
              "      <th>user_id</th>\n",
              "      <th>order_amount</th>\n",
              "      <th>total_items</th>\n",
              "      <th>payment_method</th>\n",
              "      <th>created_at</th>\n",
              "    </tr>\n",
              "  </thead>\n",
              "  <tbody>\n",
              "    <tr>\n",
              "      <th>0</th>\n",
              "      <td>1</td>\n",
              "      <td>53</td>\n",
              "      <td>746</td>\n",
              "      <td>224</td>\n",
              "      <td>2</td>\n",
              "      <td>cash</td>\n",
              "      <td>2017-03-13 12:36:56</td>\n",
              "    </tr>\n",
              "    <tr>\n",
              "      <th>1</th>\n",
              "      <td>2</td>\n",
              "      <td>92</td>\n",
              "      <td>925</td>\n",
              "      <td>90</td>\n",
              "      <td>1</td>\n",
              "      <td>cash</td>\n",
              "      <td>2017-03-03 17:38:52</td>\n",
              "    </tr>\n",
              "    <tr>\n",
              "      <th>2</th>\n",
              "      <td>3</td>\n",
              "      <td>44</td>\n",
              "      <td>861</td>\n",
              "      <td>144</td>\n",
              "      <td>1</td>\n",
              "      <td>cash</td>\n",
              "      <td>2017-03-14 4:23:56</td>\n",
              "    </tr>\n",
              "    <tr>\n",
              "      <th>3</th>\n",
              "      <td>4</td>\n",
              "      <td>18</td>\n",
              "      <td>935</td>\n",
              "      <td>156</td>\n",
              "      <td>1</td>\n",
              "      <td>credit_card</td>\n",
              "      <td>2017-03-26 12:43:37</td>\n",
              "    </tr>\n",
              "    <tr>\n",
              "      <th>4</th>\n",
              "      <td>5</td>\n",
              "      <td>18</td>\n",
              "      <td>883</td>\n",
              "      <td>156</td>\n",
              "      <td>1</td>\n",
              "      <td>credit_card</td>\n",
              "      <td>2017-03-01 4:35:11</td>\n",
              "    </tr>\n",
              "  </tbody>\n",
              "</table>\n",
              "</div>\n",
              "      <button class=\"colab-df-convert\" onclick=\"convertToInteractive('df-7ff681aa-1dc7-4d23-bee9-531bb7a488ed')\"\n",
              "              title=\"Convert this dataframe to an interactive table.\"\n",
              "              style=\"display:none;\">\n",
              "        \n",
              "  <svg xmlns=\"http://www.w3.org/2000/svg\" height=\"24px\"viewBox=\"0 0 24 24\"\n",
              "       width=\"24px\">\n",
              "    <path d=\"M0 0h24v24H0V0z\" fill=\"none\"/>\n",
              "    <path d=\"M18.56 5.44l.94 2.06.94-2.06 2.06-.94-2.06-.94-.94-2.06-.94 2.06-2.06.94zm-11 1L8.5 8.5l.94-2.06 2.06-.94-2.06-.94L8.5 2.5l-.94 2.06-2.06.94zm10 10l.94 2.06.94-2.06 2.06-.94-2.06-.94-.94-2.06-.94 2.06-2.06.94z\"/><path d=\"M17.41 7.96l-1.37-1.37c-.4-.4-.92-.59-1.43-.59-.52 0-1.04.2-1.43.59L10.3 9.45l-7.72 7.72c-.78.78-.78 2.05 0 2.83L4 21.41c.39.39.9.59 1.41.59.51 0 1.02-.2 1.41-.59l7.78-7.78 2.81-2.81c.8-.78.8-2.07 0-2.86zM5.41 20L4 18.59l7.72-7.72 1.47 1.35L5.41 20z\"/>\n",
              "  </svg>\n",
              "      </button>\n",
              "      \n",
              "  <style>\n",
              "    .colab-df-container {\n",
              "      display:flex;\n",
              "      flex-wrap:wrap;\n",
              "      gap: 12px;\n",
              "    }\n",
              "\n",
              "    .colab-df-convert {\n",
              "      background-color: #E8F0FE;\n",
              "      border: none;\n",
              "      border-radius: 50%;\n",
              "      cursor: pointer;\n",
              "      display: none;\n",
              "      fill: #1967D2;\n",
              "      height: 32px;\n",
              "      padding: 0 0 0 0;\n",
              "      width: 32px;\n",
              "    }\n",
              "\n",
              "    .colab-df-convert:hover {\n",
              "      background-color: #E2EBFA;\n",
              "      box-shadow: 0px 1px 2px rgba(60, 64, 67, 0.3), 0px 1px 3px 1px rgba(60, 64, 67, 0.15);\n",
              "      fill: #174EA6;\n",
              "    }\n",
              "\n",
              "    [theme=dark] .colab-df-convert {\n",
              "      background-color: #3B4455;\n",
              "      fill: #D2E3FC;\n",
              "    }\n",
              "\n",
              "    [theme=dark] .colab-df-convert:hover {\n",
              "      background-color: #434B5C;\n",
              "      box-shadow: 0px 1px 3px 1px rgba(0, 0, 0, 0.15);\n",
              "      filter: drop-shadow(0px 1px 2px rgba(0, 0, 0, 0.3));\n",
              "      fill: #FFFFFF;\n",
              "    }\n",
              "  </style>\n",
              "\n",
              "      <script>\n",
              "        const buttonEl =\n",
              "          document.querySelector('#df-7ff681aa-1dc7-4d23-bee9-531bb7a488ed button.colab-df-convert');\n",
              "        buttonEl.style.display =\n",
              "          google.colab.kernel.accessAllowed ? 'block' : 'none';\n",
              "\n",
              "        async function convertToInteractive(key) {\n",
              "          const element = document.querySelector('#df-7ff681aa-1dc7-4d23-bee9-531bb7a488ed');\n",
              "          const dataTable =\n",
              "            await google.colab.kernel.invokeFunction('convertToInteractive',\n",
              "                                                     [key], {});\n",
              "          if (!dataTable) return;\n",
              "\n",
              "          const docLinkHtml = 'Like what you see? Visit the ' +\n",
              "            '<a target=\"_blank\" href=https://colab.research.google.com/notebooks/data_table.ipynb>data table notebook</a>'\n",
              "            + ' to learn more about interactive tables.';\n",
              "          element.innerHTML = '';\n",
              "          dataTable['output_type'] = 'display_data';\n",
              "          await google.colab.output.renderOutput(dataTable, element);\n",
              "          const docLink = document.createElement('div');\n",
              "          docLink.innerHTML = docLinkHtml;\n",
              "          element.appendChild(docLink);\n",
              "        }\n",
              "      </script>\n",
              "    </div>\n",
              "  </div>\n",
              "  "
            ]
          },
          "metadata": {},
          "execution_count": 2
        }
      ]
    },
    {
      "cell_type": "markdown",
      "source": [
        "## Checking the value given in the question\n",
        "\n",
        "Its just a simple average of the the column order amount, the approach is very naive and the value itself seems too high to be of any importance and hence provides a biased insight.\n",
        "\n",
        "### Naive aproach to calculate AOV (Calculating mean)"
      ],
      "metadata": {
        "id": "ho3E26EKRgG1"
      }
    },
    {
      "cell_type": "code",
      "source": [
        "# geting the column 'order_amount' values in a list\n",
        "order_amount_list= df['order_amount'].values.tolist()\n",
        "print(f'Average value of order (AOV amounts is {np.mean(order_amount_list)}.')"
      ],
      "metadata": {
        "colab": {
          "base_uri": "https://localhost:8080/"
        },
        "id": "qFhVd4HXwDI-",
        "outputId": "e040abf7-6a7c-4570-8076-39ff7953a96f"
      },
      "execution_count": 3,
      "outputs": [
        {
          "output_type": "stream",
          "name": "stdout",
          "text": [
            "Average value of order (AOV amounts is 3145.128.\n"
          ]
        }
      ]
    },
    {
      "cell_type": "markdown",
      "source": [
        "## Visualizations\n",
        "\n",
        "Why I think, that just having mean will provide a biased inisght will be more clear with the plots. As we can see there are a few **outliers** which are actually make the average values much more than what it should be.\n",
        "\n",
        "While reporting average we should actually take these big orders into account as they are not a normal order. Therefore, I will try to remove these big orders from all of the orders and then find average values of a normal order because they are the orders which occur more frequently."
      ],
      "metadata": {
        "id": "a8QRFqYZR1T8"
      }
    },
    {
      "cell_type": "markdown",
      "source": [
        "### Scatter plots"
      ],
      "metadata": {
        "id": "mDzR8gntabYS"
      }
    },
    {
      "cell_type": "code",
      "source": [
        "fig = plt.figure()\n",
        "plt.scatter(order_amount_list, order_amount_list)\n",
        "plt.title('Order values (scatter plot)')\n",
        "plt.xlabel('Order amounts')\n",
        "plt.ylabel('Order amounts')\n",
        "plt.show()"
      ],
      "metadata": {
        "colab": {
          "base_uri": "https://localhost:8080/",
          "height": 295
        },
        "id": "W_eH6O9PZmzj",
        "outputId": "770f0b0c-6adc-4d30-ad4e-cfa554836bce"
      },
      "execution_count": 4,
      "outputs": [
        {
          "output_type": "display_data",
          "data": {
            "text/plain": [
              "<Figure size 432x288 with 1 Axes>"
            ],
            "image/png": "[encoded data removed]"
          },
          "metadata": {
            "needs_background": "light"
          }
        }
      ]
    },
    {
      "cell_type": "code",
      "source": [
        "plt.scatter(order_amount_list, order_amount_list)\n",
        "plt.title('Order values (scatter plot) - smaller range (<200000)')\n",
        "plt.xlabel('Order amounts')\n",
        "plt.ylabel('Order amounts')\n",
        "plt.ylim(0, 200000)\n",
        "plt.xlim(0, 200000)\n",
        "plt.show()"
      ],
      "metadata": {
        "colab": {
          "base_uri": "https://localhost:8080/",
          "height": 295
        },
        "id": "L10nYrgqaGIF",
        "outputId": "f16a90aa-e1b7-4f67-c602-d8b1991d3e09"
      },
      "execution_count": 5,
      "outputs": [
        {
          "output_type": "display_data",
          "data": {
            "text/plain": [
              "<Figure size 432x288 with 1 Axes>"
            ],
            "image/png": "[encoded data removed]"
          },
          "metadata": {
            "needs_background": "light"
          }
        }
      ]
    },
    {
      "cell_type": "code",
      "source": [
        "plt.scatter(order_amount_list, order_amount_list)\n",
        "plt.title('Order values (scatter plot) - smaller range (<20000)')\n",
        "plt.xlabel('Order amounts')\n",
        "plt.ylabel('Order amounts')\n",
        "plt.ylim(0, 20000)\n",
        "plt.xlim(0, 20000)\n",
        "plt.show()"
      ],
      "metadata": {
        "colab": {
          "base_uri": "https://localhost:8080/",
          "height": 295
        },
        "id": "yMWf-Ae0aO4d",
        "outputId": "08c4ca4e-5af6-4cdb-8008-e9c2f45759d1"
      },
      "execution_count": 6,
      "outputs": [
        {
          "output_type": "display_data",
          "data": {
            "text/plain": [
              "<Figure size 432x288 with 1 Axes>"
            ],
            "image/png": "[encoded data removed]"
          },
          "metadata": {
            "needs_background": "light"
          }
        }
      ]
    },
    {
      "cell_type": "code",
      "source": [
        "plt.scatter(order_amount_list, order_amount_list)\n",
        "plt.title('Order values (scatter plot) - smaller range (<2500)')\n",
        "plt.xlabel('Order amounts')\n",
        "plt.ylabel('Order amounts')\n",
        "plt.ylim(0, 2500)\n",
        "plt.xlim(0, 2500)\n",
        "plt.show()"
      ],
      "metadata": {
        "colab": {
          "base_uri": "https://localhost:8080/",
          "height": 295
        },
        "id": "bl8ipagIaWkc",
        "outputId": "f345e7f1-4ae1-4bdc-9702-fd4739f339cb"
      },
      "execution_count": 7,
      "outputs": [
        {
          "output_type": "display_data",
          "data": {
            "text/plain": [
              "<Figure size 432x288 with 1 Axes>"
            ],
            "image/png": "[encoded data removed]"
          },
          "metadata": {
            "needs_background": "light"
          }
        }
      ]
    },
    {
      "cell_type": "markdown",
      "source": [
        "Looks like values under 2500 have a more even spread therefore we can consider 2500 as the cut-off point and anything about it can be considered as an outlier. Checking how many values belong to which range.\n"
      ],
      "metadata": {
        "id": "sr6KAa0naxsx"
      }
    },
    {
      "cell_type": "code",
      "source": [
        "# setting the threshold\n",
        "th = 2500\n",
        "\n",
        "per = (len([val for val in order_amount_list if val < th])/(len(order_amount_list)))*100\n",
        "print(f'Percentage of orders with values less than {th} is: {round(per, 3)}%')"
      ],
      "metadata": {
        "colab": {
          "base_uri": "https://localhost:8080/"
        },
        "id": "Icj6wDYJbQPM",
        "outputId": "97deba37-a292-4edd-e69c-d66257288ac6"
      },
      "execution_count": 8,
      "outputs": [
        {
          "output_type": "stream",
          "name": "stdout",
          "text": [
            "Percentage of orders with values less than 2500 is: 98.74%\n"
          ]
        }
      ]
    },
    {
      "cell_type": "markdown",
      "source": [
        "Therefore on choosing **2,500** as a threshold we will only remove ~ **1.5%** of the orders which are very significant but not a good representative of an average order. Thus, we will analyze ~ **98.75%** of the data which seem more like an average data.\n",
        "\n",
        "### Box plot\n",
        "\n",
        "entire distribution"
      ],
      "metadata": {
        "id": "ELYCMmMMbQsT"
      }
    },
    {
      "cell_type": "code",
      "source": [
        "fig = plt.figure()\n",
        "plt.boxplot(order_amount_list)\n",
        "plt.title('Order values (box plot) - all values')\n",
        "plt.xlabel('Order amounts')\n",
        "plt.ylabel('Order value')\n",
        "plt.show()"
      ],
      "metadata": {
        "colab": {
          "base_uri": "https://localhost:8080/",
          "height": 295
        },
        "id": "JfdsGjriZCvW",
        "outputId": "cf0a2073-cb90-4ea4-87a3-cfc2f0dc9cac"
      },
      "execution_count": 9,
      "outputs": [
        {
          "output_type": "display_data",
          "data": {
            "text/plain": [
              "<Figure size 432x288 with 1 Axes>"
            ],
            "image/png": "[encoded data removed]"
          },
          "metadata": {
            "needs_background": "light"
          }
        }
      ]
    },
    {
      "cell_type": "markdown",
      "source": [
        "values below threshold"
      ],
      "metadata": {
        "id": "RwOg3Vcwcoxz"
      }
    },
    {
      "cell_type": "code",
      "source": [
        "fig = plt.figure()\n",
        "plt.boxplot([val for val in order_amount_list if val < th])\n",
        "plt.title('Order values (box plot) - below threshold')\n",
        "plt.xlabel('Order amounts')\n",
        "plt.ylabel('Order value')\n",
        "plt.show()"
      ],
      "metadata": {
        "colab": {
          "base_uri": "https://localhost:8080/",
          "height": 295
        },
        "id": "_npEDstjcZSv",
        "outputId": "78794757-bd24-4083-e069-b35b1a9b3be0"
      },
      "execution_count": 10,
      "outputs": [
        {
          "output_type": "display_data",
          "data": {
            "text/plain": [
              "<Figure size 432x288 with 1 Axes>"
            ],
            "image/png": "[encoded data removed]"
          },
          "metadata": {
            "needs_background": "light"
          }
        }
      ]
    },
    {
      "cell_type": "markdown",
      "source": [
        "### Bar plot\n",
        "\n",
        "entire range"
      ],
      "metadata": {
        "id": "6VZedNPga06Y"
      }
    },
    {
      "cell_type": "code",
      "source": [
        "fig = plt.figure()\n",
        "plt.hist(order_amount_list, bins = 50)\n",
        "plt.title('Order values distribution - all values')\n",
        "plt.xlabel('Order Values')\n",
        "plt.ylabel('Counts')\n",
        "plt.show()"
      ],
      "metadata": {
        "colab": {
          "base_uri": "https://localhost:8080/",
          "height": 295
        },
        "id": "GWWHrVS7Ki7K",
        "outputId": "35a49af3-55bb-4bf2-8e26-b48ba26a0942"
      },
      "execution_count": 11,
      "outputs": [
        {
          "output_type": "display_data",
          "data": {
            "text/plain": [
              "<Figure size 432x288 with 1 Axes>"
            ],
            "image/png": "[encoded data removed]"
          },
          "metadata": {
            "needs_background": "light"
          }
        }
      ]
    },
    {
      "cell_type": "markdown",
      "source": [
        "values below threshold"
      ],
      "metadata": {
        "id": "j3oDr0BBc6gb"
      }
    },
    {
      "cell_type": "code",
      "source": [
        "fig = plt.figure()\n",
        "plt.hist([val for val in order_amount_list if val < th], bins = 50)\n",
        "plt.title('Order values distribution - below threshold')\n",
        "plt.xlabel('Order Values')\n",
        "plt.ylabel('Counts')\n",
        "plt.show()"
      ],
      "metadata": {
        "colab": {
          "base_uri": "https://localhost:8080/",
          "height": 295
        },
        "id": "G1yqkC5Xc6Lr",
        "outputId": "bf337dbc-80a7-46bc-e9e1-8733d0cfb6f4"
      },
      "execution_count": 12,
      "outputs": [
        {
          "output_type": "display_data",
          "data": {
            "text/plain": [
              "<Figure size 432x288 with 1 Axes>"
            ],
            "image/png": "[encoded data removed]"
          },
          "metadata": {
            "needs_background": "light"
          }
        }
      ]
    },
    {
      "cell_type": "markdown",
      "source": [
        "From the histogram we can see that there are outlier values which are affecting AOV. Thus we will try to remove these outliers and then compute different necessary statistical values. \n",
        "\n",
        "## Removing outliers from **order-values**\n",
        "For removing the outliers from order-values, we need to decide a threshold value which determines weather a point is an outlier or not. We do so by using a threshold of **2,500** "
      ],
      "metadata": {
        "id": "Aix5qhCmSJ5x"
      }
    },
    {
      "cell_type": "code",
      "source": [
        "order_amount_list_lt_th = [val for val in order_amount_list if val < th]"
      ],
      "metadata": {
        "id": "zpQjvufPK-Nv"
      },
      "execution_count": 13,
      "outputs": []
    },
    {
      "cell_type": "markdown",
      "source": [
        "## Calculating mean after removing outliers "
      ],
      "metadata": {
        "id": "HqfL9N-PSRpi"
      }
    },
    {
      "cell_type": "markdown",
      "source": [
        "#### Value of AOV after removing outliers."
      ],
      "metadata": {
        "id": "SNAGC2sXSoAj"
      }
    },
    {
      "cell_type": "code",
      "source": [
        "average_value_without_outlier = np.mean(order_amount_list_lt_th)\n",
        "print(f'Average value of order (AOV) amounts without threshold is {round(np.mean(average_value_without_outlier), 3)}.')"
      ],
      "metadata": {
        "colab": {
          "base_uri": "https://localhost:8080/"
        },
        "id": "Mvn6qT9sNC7_",
        "outputId": "d0075155-3208-4794-fcfc-43f9810fd532"
      },
      "execution_count": 14,
      "outputs": [
        {
          "output_type": "stream",
          "name": "stdout",
          "text": [
            "Average value of order (AOV) amounts without threshold is 302.581.\n"
          ]
        }
      ]
    },
    {
      "cell_type": "markdown",
      "source": [
        "A much more insightful **AOV** is this average order values without outliers (which are significantly big orders worth > **2,500**), this new **AOV** is **302.581**.\n",
        "\n",
        "## Approach-2\n",
        "In presence of outliers its better to use different statistical measures like median and mode because they are more insightful than mean which will get affected significantly in presence of outliers.\n",
        "\n",
        "## Median \n",
        "\n",
        "It's best to use the median when the the distribution of data values is skewed and when there are clear outliers."
      ],
      "metadata": {
        "id": "VI2EsTgSStdr"
      }
    },
    {
      "cell_type": "code",
      "source": [
        "median_order_value = np.median(order_amount_list)\n",
        "print(f'Median of order values is {median_order_value}')"
      ],
      "metadata": {
        "colab": {
          "base_uri": "https://localhost:8080/"
        },
        "id": "8tnaGVb7NTVt",
        "outputId": "26dc9289-80d6-423c-901a-7406d357e92a"
      },
      "execution_count": 15,
      "outputs": [
        {
          "output_type": "stream",
          "name": "stdout",
          "text": [
            "Median of order values is 284.0\n"
          ]
        }
      ]
    },
    {
      "cell_type": "markdown",
      "source": [
        "## Approach-3\n",
        "\n",
        "The mode is the least used of the measures of central tendency and can only be used when dealing with nominal data. For this reason, the mode will be the best measure of central tendency (as it is the only one appropriate to use) when dealing with nominal data."
      ],
      "metadata": {
        "id": "wOexaaEmS_XU"
      }
    },
    {
      "cell_type": "code",
      "source": [
        "mode_order_value = statistics.mode(order_amount_list)\n",
        "print(f'Mode of order values is {mode_order_value}')"
      ],
      "metadata": {
        "colab": {
          "base_uri": "https://localhost:8080/"
        },
        "id": "NL2Rvx4GNiMM",
        "outputId": "9475dd49-2415-4d3f-8ddf-25542f0fe945"
      },
      "execution_count": 16,
      "outputs": [
        {
          "output_type": "stream",
          "name": "stdout",
          "text": [
            "Mode of order values is 153\n"
          ]
        }
      ]
    },
    {
      "cell_type": "markdown",
      "source": [
        "## Conclusion \n",
        "\n",
        "These values mode **153**, median **284** and mean (without outliers) **302.581** are much more relevant and in accordance of an average order and thus can be used to analyze an order in average."
      ],
      "metadata": {
        "id": "LqS8JaKhfU2I"
      }
    },
    {
      "cell_type": "code",
      "source": [
        "# END"
      ],
      "metadata": {
        "id": "fANfu4kwfv1k"
      },
      "execution_count": 17,
      "outputs": []
    }
  ]
}